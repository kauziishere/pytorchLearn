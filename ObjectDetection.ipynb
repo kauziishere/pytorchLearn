{
 "cells": [
  {
   "cell_type": "code",
   "execution_count": 15,
   "metadata": {},
   "outputs": [],
   "source": [
    "import torch\n",
    "import torchvision\n",
    "import torchvision.transforms as transforms"
   ]
  },
  {
   "cell_type": "code",
   "execution_count": 16,
   "metadata": {},
   "outputs": [
    {
     "name": "stdout",
     "output_type": "stream",
     "text": [
      "Files already downloaded and verified\n",
      "Files already downloaded and verified\n"
     ]
    }
   ],
   "source": [
    "transform   = transforms.Compose([transforms.ToTensor(), transforms.Normalize((0.5, 0.5, 0.5), (0.5, 0.5, 0.5))])\n",
    "trainset    = torchvision.datasets.CIFAR10(root = './data', train =True, download = True, transform = transform)\n",
    "trainLoader = torch.utils.data.DataLoader(trainset, batch_size = 4, shuffle = True, num_workers = 2)\n",
    "testset     = torchvision.datasets.CIFAR10(root = './data', train = True, download = True, transform = transform)\n",
    "testLoader  = torch.utils.data.DataLoader(testset, batch_size = 4, shuffle = True, num_workers = 2)\n",
    "\n",
    "classes = ('plane', 'car', 'bird', 'cat', 'deer', 'dog', 'frog', 'horse', 'ship', 'truck')"
   ]
  },
  {
   "cell_type": "code",
   "execution_count": 17,
   "metadata": {},
   "outputs": [],
   "source": [
    "%matplotlib inline \n",
    "\n",
    "import matplotlib.pyplot as plt\n",
    "import numpy as np"
   ]
  },
  {
   "cell_type": "code",
   "execution_count": 18,
   "metadata": {},
   "outputs": [
    {
     "name": "stdout",
     "output_type": "stream",
     "text": [
      "  car  ship truck  deer\n"
     ]
    },
    {
     "data": {
      "image/png": "[encoded data removed]",
      "text/plain": [
       "<matplotlib.figure.Figure at 0x7feba40df5f8>"
      ]
     },
     "metadata": {},
     "output_type": "display_data"
    }
   ],
   "source": [
    "def imgshow(img):\n",
    "    img = img / 2 + 0.5\n",
    "    npimg = img.numpy()\n",
    "    plt.imshow(np.transpose(npimg, (1, 2, 0)))\n",
    "\n",
    "dataiter       = iter(trainLoader)\n",
    "images, labels = dataiter.next()\n",
    "\n",
    "imgshow(torchvision.utils.make_grid(images))\n",
    "print(' '.join('%5s' % classes[labels[j]] for j in range(0,4)))"
   ]
  },
  {
   "cell_type": "code",
   "execution_count": 19,
   "metadata": {},
   "outputs": [],
   "source": [
    "import torch.nn as nn\n",
    "import torch.nn.functional as F\n",
    "\n",
    "class Net(nn.Module):\n",
    "    def __init__(self):\n",
    "        super(Net, self).__init__()\n",
    "        self.conv1   = nn.Conv2d(3, 6, 5)\n",
    "        self.pool    = nn.MaxPool2d(2, 2)\n",
    "        self.conv2   = nn.Conv2d(6, 16, 5)\n",
    "        self.fc1     = nn.Linear(16 *5 *5, 120)\n",
    "        self.fc2     = nn.Linear(120, 84)\n",
    "        self.fc3     = nn.Linear(84, 10)\n",
    "    \n",
    "    def forward(self, x):\n",
    "        x = self.pool(F.relu(self.conv1(x)))\n",
    "        x = self.pool(F.relu(self.conv2(x)))\n",
    "        x = x.view(-1, 16 * 5 * 5)\n",
    "        x = F.relu(self.fc1(x))\n",
    "        x = F.relu(self.fc2(x))\n",
    "        x = self.fc3(x)\n",
    "        return x\n",
    "net = Net()"
   ]
  },
  {
   "cell_type": "code",
   "execution_count": 20,
   "metadata": {},
   "outputs": [],
   "source": [
    "import torch.optim as optim\n",
    "\n",
    "criterion = nn.CrossEntropyLoss()\n",
    "optimizer = optim.SGD(net.parameters(), lr = 0.001, momentum = 0.9)"
   ]
  },
  {
   "cell_type": "code",
   "execution_count": 21,
   "metadata": {},
   "outputs": [
    {
     "name": "stdout",
     "output_type": "stream",
     "text": [
      "cuda:0\n",
      "[1,  2000] loss: 2.176\n",
      "[1,  4000] loss: 1.874\n",
      "[1,  6000] loss: 1.715\n",
      "[1,  8000] loss: 1.642\n",
      "[1, 10000] loss: 1.554\n",
      "[1, 12000] loss: 1.494\n",
      "[2,  2000] loss: 1.411\n",
      "[2,  4000] loss: 1.386\n",
      "[2,  6000] loss: 1.356\n",
      "[2,  8000] loss: 1.321\n",
      "[2, 10000] loss: 1.314\n",
      "[2, 12000] loss: 1.268\n",
      "[3,  2000] loss: 1.232\n",
      "[3,  4000] loss: 1.214\n",
      "[3,  6000] loss: 1.186\n",
      "[3,  8000] loss: 1.193\n",
      "[3, 10000] loss: 1.192\n",
      "[3, 12000] loss: 1.146\n",
      "[4,  2000] loss: 1.094\n",
      "[4,  4000] loss: 1.112\n",
      "[4,  6000] loss: 1.096\n",
      "[4,  8000] loss: 1.118\n",
      "[4, 10000] loss: 1.091\n",
      "[4, 12000] loss: 1.088\n",
      "[5,  2000] loss: 1.010\n",
      "[5,  4000] loss: 1.029\n",
      "[5,  6000] loss: 1.046\n",
      "[5,  8000] loss: 1.040\n",
      "[5, 10000] loss: 1.035\n",
      "[5, 12000] loss: 1.036\n",
      "[6,  2000] loss: 0.956\n",
      "[6,  4000] loss: 0.964\n",
      "[6,  6000] loss: 0.956\n",
      "[6,  8000] loss: 0.962\n",
      "[6, 10000] loss: 1.005\n",
      "[6, 12000] loss: 0.987\n",
      "[7,  2000] loss: 0.890\n",
      "[7,  4000] loss: 0.932\n",
      "[7,  6000] loss: 0.917\n",
      "[7,  8000] loss: 0.935\n",
      "[7, 10000] loss: 0.933\n",
      "[7, 12000] loss: 0.957\n",
      "[8,  2000] loss: 0.853\n",
      "[8,  4000] loss: 0.892\n",
      "[8,  6000] loss: 0.902\n",
      "[8,  8000] loss: 0.896\n",
      "[8, 10000] loss: 0.891\n",
      "[8, 12000] loss: 0.921\n",
      "[9,  2000] loss: 0.824\n",
      "[9,  4000] loss: 0.841\n",
      "[9,  6000] loss: 0.853\n",
      "[9,  8000] loss: 0.853\n",
      "[9, 10000] loss: 0.868\n",
      "[9, 12000] loss: 0.869\n",
      "[10,  2000] loss: 0.765\n",
      "[10,  4000] loss: 0.803\n",
      "[10,  6000] loss: 0.830\n",
      "[10,  8000] loss: 0.834\n",
      "[10, 10000] loss: 0.849\n",
      "[10, 12000] loss: 0.870\n",
      "Training completed\n"
     ]
    }
   ],
   "source": [
    "device = torch.device(\"cuda:0\" if torch.cuda.is_available() else \"cpu\")\n",
    "net.to(device)\n",
    "print(device)\n",
    "for epoch in range(10):\n",
    "    running_loss = 0.0\n",
    "    for i, data in enumerate(trainLoader, 0):\n",
    "        inputs, labels = data\n",
    "        inputs  = inputs.to(device)\n",
    "        labels  = labels.to(device)\n",
    "        optimizer.zero_grad()\n",
    "        \n",
    "        outputs = net(inputs)\n",
    "        loss    = criterion(outputs, labels)\n",
    "        loss.backward()\n",
    "        optimizer.step()\n",
    "        \n",
    "        running_loss += loss.item()\n",
    "        if i % 2000 == 1999:\n",
    "            print('[%d, %5d] loss: %.3f' % (epoch+1, i+1, running_loss / 2000))\n",
    "            running_loss = 0.0\n",
    "print(\"Training completed\")"
   ]
  },
  {
   "cell_type": "code",
   "execution_count": 24,
   "metadata": {},
   "outputs": [
    {
     "name": "stdout",
     "output_type": "stream",
     "text": [
      "GroundTruth:    car  horse    cat   deer \n"
     ]
    },
    {
     "data": {
      "image/png": "[encoded data removed]",
      "text/plain": [
       "<matplotlib.figure.Figure at 0x7feb2d13a320>"
      ]
     },
     "metadata": {},
     "output_type": "display_data"
    }
   ],
   "source": [
    "dataiter = iter(testLoader)\n",
    "images, labels = dataiter.next()\n",
    "\n",
    "imgshow(torchvision.utils.make_grid(images))\n",
    "print(\"GroundTruth: \", ' '.join('%5s ' % classes[labels[j]] for j in range(4)))"
   ]
  },
  {
   "cell_type": "code",
   "execution_count": 31,
   "metadata": {},
   "outputs": [
    {
     "name": "stdout",
     "output_type": "stream",
     "text": [
      "Accuracy of the network is 70 %\n"
     ]
    }
   ],
   "source": [
    "correct = 0\n",
    "total   = 0\n",
    "with torch.no_grad():\n",
    "    for data in testLoader:\n",
    "        images, labels = data\n",
    "        outputs        = net(images.to(device))\n",
    "        _, predicted   = torch.max(outputs.data, 1)\n",
    "        total        += labels.size(0)\n",
    "        correct      += (predicted == labels.to(device)).sum().item()\n",
    "print(\"Accuracy of the network is %d %%\" % (100*correct/total))"
   ]
  },
  {
   "cell_type": "code",
   "execution_count": null,
   "metadata": {},
   "outputs": [],
   "source": []
  },
  {
   "cell_type": "code",
   "execution_count": null,
   "metadata": {},
   "outputs": [],
   "source": []
  },
  {
   "cell_type": "code",
   "execution_count": null,
   "metadata": {},
   "outputs": [],
   "source": []
  }
 ],
 "metadata": {
  "kernelspec": {
   "display_name": "Python 3",
   "language": "python",
   "name": "python3"
  },
  "language_info": {
   "codemirror_mode": {
    "name": "ipython",
    "version": 3
   },
   "file_extension": ".py",
   "mimetype": "text/x-python",
   "name": "python",
   "nbconvert_exporter": "python",
   "pygments_lexer": "ipython3",
   "version": "3.5.2"
  }
 },
 "nbformat": 4,
 "nbformat_minor": 2
}
